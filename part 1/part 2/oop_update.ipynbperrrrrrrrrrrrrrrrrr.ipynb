{
 "cells": [
  {
   "cell_type": "code",
   "execution_count": 1,
   "id": "639f6189",
   "metadata": {},
   "outputs": [
    {
     "name": "stdout",
     "output_type": "stream",
     "text": [
      "hello\n"
     ]
    }
   ],
   "source": [
    "print(\"hello\")\n"
   ]
  },
  {
   "cell_type": "code",
   "execution_count": 2,
   "id": "149d09ea",
   "metadata": {},
   "outputs": [
    {
     "name": "stdout",
     "output_type": "stream",
     "text": [
      "sajib\n"
     ]
    }
   ],
   "source": [
    "class hello:\n",
    "     def __init__(self):\n",
    "         print(\"sajib\") \n",
    "h1= hello()\n"
   ]
  },
  {
   "cell_type": "code",
   "execution_count": 8,
   "id": "075069f8",
   "metadata": {},
   "outputs": [
    {
     "data": {
      "text/plain": [
       "'model is joya and year is 1980'"
      ]
     },
     "execution_count": 8,
     "metadata": {},
     "output_type": "execute_result"
    }
   ],
   "source": [
    "class hello:\n",
    "    def info (self, model , year):\n",
    "        self.model = model\n",
    "        self.year = year\n",
    "    def show(self):\n",
    "        return(f\"model is {self.model} and year is {self.year}\")\n",
    "\n",
    "h= hello()\n",
    "h.info(\"joya\", \"1980\")\n",
    "h.show()"
   ]
  },
  {
   "cell_type": "code",
   "execution_count": 10,
   "id": "c92c975e",
   "metadata": {},
   "outputs": [
    {
     "data": {
      "text/plain": [
       "'joya'"
      ]
     },
     "execution_count": 10,
     "metadata": {},
     "output_type": "execute_result"
    }
   ],
   "source": [
    "class hello:\n",
    "    def info (self, model , year):\n",
    "        self.model = model\n",
    "        self.year = year\n",
    "    def show(self):\n",
    "        return(f\"model is {self.model} and year is {self.year}\")\n",
    "\n",
    "h= hello()\n",
    "h.info(\"joya\", \"1980\")\n",
    "getattr(h,\"model\")\n"
   ]
  },
  {
   "cell_type": "code",
   "execution_count": 12,
   "id": "e488cca5",
   "metadata": {},
   "outputs": [],
   "source": [
    "class hello:\n",
    "    def info (self, model , year):\n",
    "        self.model = model\n",
    "        self.year = year\n",
    "    def show(self):\n",
    "        return(f\"model is {self.model} and year is {self.year}\")\n",
    "\n",
    "h= hello()\n",
    "h.info(\"joya\", \"1980\")\n",
    "setattr(h,\"model\",\"addolf\")"
   ]
  },
  {
   "cell_type": "code",
   "execution_count": 13,
   "id": "71c49e6c",
   "metadata": {},
   "outputs": [
    {
     "data": {
      "text/plain": [
       "'addolf'"
      ]
     },
     "execution_count": 13,
     "metadata": {},
     "output_type": "execute_result"
    }
   ],
   "source": [
    "getattr(h, \"model\")"
   ]
  },
  {
   "cell_type": "code",
   "execution_count": null,
   "id": "a119c85f",
   "metadata": {},
   "outputs": [],
   "source": []
  },
  {
   "cell_type": "code",
   "execution_count": null,
   "id": "55fe33e3",
   "metadata": {},
   "outputs": [],
   "source": []
  },
  {
   "cell_type": "code",
   "execution_count": null,
   "id": "e8ed8706",
   "metadata": {},
   "outputs": [],
   "source": []
  }
 ],
 "metadata": {
  "kernelspec": {
   "display_name": "Python 3",
   "language": "python",
   "name": "python3"
  },
  "language_info": {
   "codemirror_mode": {
    "name": "ipython",
    "version": 3
   },
   "file_extension": ".py",
   "mimetype": "text/x-python",
   "name": "python",
   "nbconvert_exporter": "python",
   "pygments_lexer": "ipython3",
   "version": "3.13.7"
  }
 },
 "nbformat": 4,
 "nbformat_minor": 5
}
